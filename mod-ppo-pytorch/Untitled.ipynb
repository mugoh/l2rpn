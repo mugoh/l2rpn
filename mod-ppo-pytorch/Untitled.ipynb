{
 "cells": [
  {
   "cell_type": "code",
   "execution_count": 1,
   "metadata": {},
   "outputs": [],
   "source": [
    "import scipy.signal\n",
    "import numpy as np"
   ]
  },
  {
   "cell_type": "code",
   "execution_count": 3,
   "metadata": {},
   "outputs": [],
   "source": [
    "\n",
    "def discounted_cumsum(rew, disc):\n",
    "    \"\"\"\n",
    "        Calculates rewards to go\n",
    "    \"\"\"\n",
    "    rew_len = len(rew)\n",
    "    disc_array = np.repeat(disc, rew_len)\n",
    "\n",
    "    all_rtg = []\n",
    "\n",
    "    for t in range(rew_len):\n",
    "\n",
    "        # indices t' to T-1\n",
    "        indices = np.arange(t, rew_len)\n",
    "\n",
    "        # gamma^(t'-t)\n",
    "        discounts = np.power(disc, indices - t)\n",
    "\n",
    "        # r_t' * decay\n",
    "        rtg = rew[t:, ] * discounts\n",
    "\n",
    "        # sum_{t'=t}^{T-1} rtg\n",
    "        rtg_sum = np.sum(rtg)\n",
    "\n",
    "        all_rtg.append(rtg_sum)\n",
    "\n",
    "    return np.asanyarray(all_rtg)\n",
    "\n",
    "def dcum2(rew, disc):\n",
    "    \"\"\"\n",
    "        Compare against discounted_cumsum\n",
    "    \"\"\"\n",
    "    return scipy.signal.lfilter([1], [1, float(-disc)], rew[::-1], axis=0)[::-1]"
   ]
  },
  {
   "cell_type": "code",
   "execution_count": 19,
   "metadata": {},
   "outputs": [
    {
     "data": {
      "text/plain": [
       "10018.7285"
      ]
     },
     "execution_count": 19,
     "metadata": {},
     "output_type": "execute_result"
    }
   ],
   "source": [
    "x = np.random.randint(20000, size=(10000))\n",
    "x.shape\n",
    "x.mean()"
   ]
  },
  {
   "cell_type": "code",
   "execution_count": 33,
   "metadata": {},
   "outputs": [
    {
     "data": {
      "text/plain": [
       "(1000,)"
      ]
     },
     "execution_count": 33,
     "metadata": {},
     "output_type": "execute_result"
    }
   ],
   "source": [
    "x[::10].shape"
   ]
  },
  {
   "cell_type": "code",
   "execution_count": 32,
   "metadata": {},
   "outputs": [
    {
     "data": {
      "text/plain": [
       "(10000,)"
      ]
     },
     "execution_count": 32,
     "metadata": {},
     "output_type": "execute_result"
    }
   ],
   "source": [
    "x.shape"
   ]
  },
  {
   "cell_type": "markdown",
   "metadata": {},
   "source": [
    "decay = .98 * .95\n",
    "decay"
   ]
  },
  {
   "cell_type": "code",
   "execution_count": 22,
   "metadata": {},
   "outputs": [
    {
     "name": "stdout",
     "output_type": "stream",
     "text": [
      "5.28 s ± 62.7 ms per loop (mean ± std. dev. of 7 runs, 1 loop each)\n"
     ]
    }
   ],
   "source": [
    "%timeit discounted_cumsum(x, decay)"
   ]
  },
  {
   "cell_type": "code",
   "execution_count": 23,
   "metadata": {},
   "outputs": [
    {
     "name": "stdout",
     "output_type": "stream",
     "text": [
      "115 µs ± 440 ns per loop (mean ± std. dev. of 7 runs, 10000 loops each)\n"
     ]
    }
   ],
   "source": [
    "%timeit dcum2(x, decay)"
   ]
  }
 ],
 "metadata": {
  "kernelspec": {
   "display_name": "Python 3",
   "language": "python",
   "name": "python3"
  },
  "language_info": {
   "codemirror_mode": {
    "name": "ipython",
    "version": 3
   },
   "file_extension": ".py",
   "mimetype": "text/x-python",
   "name": "python",
   "nbconvert_exporter": "python",
   "pygments_lexer": "ipython3",
   "version": "3.6.9"
  }
 },
 "nbformat": 4,
 "nbformat_minor": 4
}
